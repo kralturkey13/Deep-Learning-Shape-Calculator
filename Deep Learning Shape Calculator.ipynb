{
 "cells": [
  {
   "cell_type": "markdown",
   "metadata": {},
   "source": [
    "<h2> Deep Learning Shape Calculator </h2>"
   ]
  },
  {
   "cell_type": "markdown",
   "metadata": {},
   "source": [
    "<b>This section calculates weights and biases(includes derivatives of them) shapes of any layer in neural networks.</b>"
   ]
  },
  {
   "cell_type": "code",
   "execution_count": 1,
   "metadata": {},
   "outputs": [],
   "source": [
    "import numpy as np"
   ]
  },
  {
   "cell_type": "code",
   "execution_count": 2,
   "metadata": {},
   "outputs": [
    {
     "name": "stdout",
     "output_type": "stream",
     "text": [
      "Enter the size of the training examples: 1000\n",
      "Enter the size of the previous layer: 6\n",
      "Enter the size of the next hidden layer you want to add: 3\n"
     ]
    }
   ],
   "source": [
    "m=int(input(\"Enter the size of the training examples: \"))\n",
    "n_previous=int(input(\"Enter the size of the previous layer: \"))\n",
    "n_hidden=int(input(\"Enter the size of the next hidden layer you want to add: \"))"
   ]
  },
  {
   "cell_type": "code",
   "execution_count": 3,
   "metadata": {},
   "outputs": [
    {
     "name": "stdout",
     "output_type": "stream",
     "text": [
      "Weights shape= (3, 6)\n",
      "Bias shape= (3, 1)\n",
      "dW shape= (3, 6)\n",
      "dB shape= (3, 1)\n",
      "Z and a shape= (3, 1000)\n",
      "dZ and dA shape= (3, 1000)\n"
     ]
    }
   ],
   "source": [
    "weights_shape=(n_hidden,n_previous)\n",
    "bias_shape=(n_hidden,1)\n",
    "dW_shape=(n_hidden,n_previous)\n",
    "dB_shape=(n_hidden,1)\n",
    "Z_a_shape=(n_hidden,m)\n",
    "dZ_dA_shape=(n_hidden,m)\n",
    "print(\"Weights shape= \"+str(weights_shape))\n",
    "print(\"Bias shape= \"+str(bias_shape))\n",
    "print(\"dW shape= \"+str(dW_shape))\n",
    "print(\"dB shape= \"+str(dB_shape))\n",
    "print(\"Z and a shape= \"+str(Z_a_shape))\n",
    "print(\"dZ and dA shape= \"+str(dZ_dA_shape))"
   ]
  },
  {
   "cell_type": "markdown",
   "metadata": {},
   "source": [
    "<b>This section calculates image size after padding, striding and pooling</b>"
   ]
  },
  {
   "cell_type": "code",
   "execution_count": 4,
   "metadata": {},
   "outputs": [
    {
     "name": "stdout",
     "output_type": "stream",
     "text": [
      "Enter the height of the input image: 7\n",
      "Enter the widht of the input image: 7\n",
      "Enter the size of the filter: 3\n",
      "Enter the size of the padding: 1\n",
      "Enter the size of the stride: 2\n"
     ]
    }
   ],
   "source": [
    "input_image_heigth=int(input(\"Enter the height of the input image: \"))\n",
    "input_image_widht=int(input(\"Enter the widht of the input image: \"))\n",
    "filter_size=int(input(\"Enter the size of the filter: \"))\n",
    "padding_size=int(input(\"Enter the size of the padding: \"))\n",
    "stride_size=int(input(\"Enter the size of the stride: \"))\n",
    "if stride_size==0: IsStride=False\n",
    "else: IsStride=True"
   ]
  },
  {
   "cell_type": "code",
   "execution_count": 5,
   "metadata": {},
   "outputs": [
    {
     "name": "stdout",
     "output_type": "stream",
     "text": [
      "Original image size= (7, 7)\n",
      "After convolution shape= (5, 5)\n",
      "After padding shape= (7, 7)\n",
      "After stride shape= (4.0, 4.0)\n",
      "After pooling shape= (4.0, 4.0)\n"
     ]
    }
   ],
   "source": [
    "after_convolution_shape=(input_image_heigth-filter_size+1,input_image_widht-filter_size+1)\n",
    "after_padding_shape=(input_image_heigth+2*padding_size-filter_size+1,input_image_widht+2*padding_size-filter_size+1)\n",
    "if IsStride:\n",
    "    after_pooling_shape=after_stride_shape=(np.floor(((input_image_heigth+2*padding_size-filter_size)/stride_size)+1),np.floor(((input_image_widht+2*padding_size-filter_size)/stride_size)+1))\n",
    "else:\n",
    "    after_pooling_shape=after_stride_shape=after_padding_shape\n",
    "print(\"Original image size= \"+str((input_image_heigth,input_image_widht)))\n",
    "print(\"After convolution shape= \"+str(after_convolution_shape))\n",
    "if padding_size!=0: print(\"After padding shape= \"+str(after_padding_shape))\n",
    "if stride_size!=0: print(\"After stride shape= \"+str(after_stride_shape))\n",
    "print(\"After pooling shape= \"+str(after_pooling_shape))"
   ]
  }
 ],
 "metadata": {
  "kernelspec": {
   "display_name": "Python 3",
   "language": "python",
   "name": "python3"
  },
  "language_info": {
   "codemirror_mode": {
    "name": "ipython",
    "version": 3
   },
   "file_extension": ".py",
   "mimetype": "text/x-python",
   "name": "python",
   "nbconvert_exporter": "python",
   "pygments_lexer": "ipython3",
   "version": "3.7.6"
  }
 },
 "nbformat": 4,
 "nbformat_minor": 4
}
